{
 "cells": [
  {
   "cell_type": "code",
   "execution_count": 2,
   "id": "a762ac90",
   "metadata": {},
   "outputs": [
    {
     "name": "stdout",
     "output_type": "stream",
     "text": [
      "Requirement already satisfied: wbgapi in c:\\users\\leube\\anaconda3\\lib\\site-packages (1.0.7)\n",
      "Requirement already satisfied: tabulate in c:\\users\\leube\\anaconda3\\lib\\site-packages (from wbgapi) (0.8.9)\n",
      "Requirement already satisfied: PyYAML in c:\\users\\leube\\anaconda3\\lib\\site-packages (from wbgapi) (6.0)\n",
      "Requirement already satisfied: requests in c:\\users\\leube\\anaconda3\\lib\\site-packages (from wbgapi) (2.26.0)\n",
      "Requirement already satisfied: certifi>=2017.4.17 in c:\\users\\leube\\anaconda3\\lib\\site-packages (from requests->wbgapi) (2021.10.8)\n",
      "Requirement already satisfied: idna<4,>=2.5 in c:\\users\\leube\\anaconda3\\lib\\site-packages (from requests->wbgapi) (3.2)\n",
      "Requirement already satisfied: charset-normalizer~=2.0.0 in c:\\users\\leube\\anaconda3\\lib\\site-packages (from requests->wbgapi) (2.0.4)\n",
      "Requirement already satisfied: urllib3<1.27,>=1.21.1 in c:\\users\\leube\\anaconda3\\lib\\site-packages (from requests->wbgapi) (1.26.7)\n"
     ]
    }
   ],
   "source": [
    "! pip install wbgapi "
   ]
  },
  {
   "cell_type": "code",
   "execution_count": 3,
   "id": "e5c94ca7",
   "metadata": {},
   "outputs": [],
   "source": [
    "import pandas as pd\n",
    "import matplotlib.pyplot as plt\n",
    "import wbgapi as wb"
   ]
  },
  {
   "cell_type": "code",
   "execution_count": null,
   "id": "16a4e44d",
   "metadata": {},
   "outputs": [],
   "source": [
    "help(wb)\n"
   ]
  },
  {
   "cell_type": "code",
   "execution_count": 28,
   "id": "1e69d16c",
   "metadata": {},
   "outputs": [
    {
     "data": {
      "text/html": [
       "<div class=\"wbgapi\"><table>\n",
       "<thead>\n",
       "<tr><th>id  </th><th>value     </th><th>region  </th><th>incomeLevel  </th></tr>\n",
       "</thead>\n",
       "<tbody>\n",
       "<tr><td>ESP </td><td>Spain     </td><td>ECS     </td><td>HIC          </td></tr>\n",
       "<tr><td>    </td><td>1 elements</td><td>        </td><td>             </td></tr>\n",
       "</tbody>\n",
       "</table></div>"
      ],
      "text/plain": [
       "id    value       region    incomeLevel\n",
       "----  ----------  --------  -------------\n",
       "ESP   Spain       ECS       HIC\n",
       "      1 elements"
      ]
     },
     "execution_count": 28,
     "metadata": {},
     "output_type": "execute_result"
    }
   ],
   "source": [
    "wb.economy.info(q='Spain')"
   ]
  },
  {
   "cell_type": "code",
   "execution_count": 58,
   "id": "10526f31",
   "metadata": {},
   "outputs": [
    {
     "data": {
      "text/html": [
       "<div class=\"wbgapi\"><table>\n",
       "<thead>\n",
       "<tr><th>id            </th><th>value                                    </th></tr>\n",
       "</thead>\n",
       "<tbody>\n",
       "<tr><td>IP.JRN.ARTC.SC</td><td>Scientific and technical journal articles</td></tr>\n",
       "<tr><td>              </td><td>1 elements                               </td></tr>\n",
       "</tbody>\n",
       "</table></div>"
      ],
      "text/plain": [
       "id              value\n",
       "--------------  -----------------------------------------\n",
       "IP.JRN.ARTC.SC  Scientific and technical journal articles\n",
       "                1 elements"
      ]
     },
     "execution_count": 58,
     "metadata": {},
     "output_type": "execute_result"
    }
   ],
   "source": [
    "wb.series.info(q='technical journal')\n"
   ]
  },
  {
   "cell_type": "code",
   "execution_count": null,
   "id": "0c30086b",
   "metadata": {},
   "outputs": [],
   "source": [
    "keys = ['GB.XPD.RSDV.GD.ZS','TX.VAL.TECH.MF.ZS','IP.PAT.NRES','IP.PAT.RESD','IP.JRN.ARTC.SC']"
   ]
  },
  {
   "cell_type": "code",
   "execution_count": 59,
   "id": "34a5dc78",
   "metadata": {},
   "outputs": [],
   "source": [
    "In1 = wb.data.DataFrame('GB.XPD.RSDV.GD.ZS', ['FRA','USA','ISR','DEU','JPN','ITA','HRV','PRT','SWE','ESP'], time=range(2014,2019)) \n",
    "In1\n",
    "In5.to_csv(r'C:\\Users\\leube\\Ironhack\\Ironprojects\\Project_2_CI\\Project2\\indicator_1.1.csv')"
   ]
  },
  {
   "cell_type": "code",
   "execution_count": 60,
   "id": "1f3cbcef",
   "metadata": {},
   "outputs": [],
   "source": [
    "In2 = wb.data.DataFrame('TX.VAL.TECH.MF.ZS', ['FRA','USA','ISR','DEU','JPN','ITA','HRV','PRT','SWE','ESP'], time=range(2014,2019)) \n",
    "In2\n",
    "In5.to_csv(r'C:\\Users\\leube\\Ironhack\\Ironprojects\\Project_2_CI\\Project2\\indicator_2.csv')"
   ]
  },
  {
   "cell_type": "code",
   "execution_count": 61,
   "id": "1e8445aa",
   "metadata": {},
   "outputs": [],
   "source": [
    "In3 = wb.data.DataFrame('IP.PAT.NRES', ['FRA','USA','ISR','DEU','JPN','ITA','HRV','PRT','SWE','ESP'], time=range(2014,2019)) \n",
    "In3\n",
    "In5.to_csv(r'C:\\Users\\leube\\Ironhack\\Ironprojects\\Project_2_CI\\Project2\\indicator_3.csv')"
   ]
  },
  {
   "cell_type": "code",
   "execution_count": 62,
   "id": "46e9ad41",
   "metadata": {},
   "outputs": [],
   "source": [
    "In4 = wb.data.DataFrame('IP.PAT.RESD', ['FRA','USA','ISR','DEU','JPN','ITA','HRV','PRT','SWE','ESP'], time=range(2014,2019)) \n",
    "In4\n",
    "In5.to_csv(r'C:\\Users\\leube\\Ironhack\\Ironprojects\\Project_2_CI\\Project2\\indicator_4.csv')"
   ]
  },
  {
   "cell_type": "code",
   "execution_count": 63,
   "id": "2cb680c8",
   "metadata": {},
   "outputs": [],
   "source": [
    "In5 = wb.data.DataFrame('IP.JRN.ARTC.SC', ['FRA','USA','ISR','DEU','JPN','ITA','HRV','PRT','SWE','ESP'], time=range(2014,2019)) \n",
    "In5\n",
    "In5.to_csv(r'C:\\Users\\leube\\Ironhack\\Ironprojects\\Project_2_CI\\Project2\\indicator_5.csv')"
   ]
  }
 ],
 "metadata": {
  "kernelspec": {
   "display_name": "Python 3 (ipykernel)",
   "language": "python",
   "name": "python3"
  },
  "language_info": {
   "codemirror_mode": {
    "name": "ipython",
    "version": 3
   },
   "file_extension": ".py",
   "mimetype": "text/x-python",
   "name": "python",
   "nbconvert_exporter": "python",
   "pygments_lexer": "ipython3",
   "version": "3.9.7"
  }
 },
 "nbformat": 4,
 "nbformat_minor": 5
}
